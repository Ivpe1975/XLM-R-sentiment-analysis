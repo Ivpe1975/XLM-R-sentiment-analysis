{
 "cells": [
  {
   "cell_type": "code",
   "execution_count": 1,
   "id": "8a45c7bb",
   "metadata": {},
   "outputs": [],
   "source": [
    "import lang2vec.lang2vec as l2v\n",
    "import scipy.stats as sc\n",
    "import matplotlib.pyplot as plt"
   ]
  },
  {
   "cell_type": "code",
   "execution_count": 6,
   "id": "b750319e",
   "metadata": {},
   "outputs": [],
   "source": [
    "isocodes=['eng','jpn','fra','deu','chn','spa']\n",
    "distances=['genetic','geographic','syntactic','inventory','phonological','featural']"
   ]
  },
  {
   "cell_type": "code",
   "execution_count": 7,
   "id": "4605e2e0",
   "metadata": {},
   "outputs": [
    {
     "name": "stdout",
     "output_type": "stream",
     "text": [
      "[[1.0, 0.9, 0.4286, 1.0, 0.9], [0.5, 0.0, 0.1, 0.3, 0.1], [0.66, 0.46, 0.42, 0.57, 0.4], [0.5472, 0.4753, 0.4364, 0.5983, 0.5481], [0.5032, 0.427, 0.3277, 0.5687, 0.3433], [0.6, 0.5, 0.4, 0.6, 0.5], [1.0, 1.0, 1.0, 1.0, 1.0], [0.5, 0.5, 0.5, 0.4, 0.5], [0.66, 0.71, 0.6, 0.59, 0.76], [0.5472, 0.5052, 0.5258, 0.6597, 0.5914], [0.5032, 0.4407, 0.4407, 0.6162, 0.5641], [0.6, 0.6, 0.5, 0.6, 0.7], [0.9, 1.0, 0.8571, 1.0, 0.4375], [0.0, 0.5, 0.0, 0.4, 0.0], [0.46, 0.71, 0.46, 0.57, 0.41], [0.4753, 0.5052, 0.3886, 0.6025, 0.5804], [0.427, 0.4407, 0.2617, 0.5456, 0.4788], [0.5, 0.6, 0.4, 0.6, 0.5], [0.4286, 1.0, 0.8571, 1.0, 0.8571], [0.1, 0.5, 0.0, 0.4, 0.1], [0.42, 0.6, 0.46, 0.58, 0.5], [0.4364, 0.5258, 0.3886, 0.6153, 0.6393], [0.3277, 0.4407, 0.2617, 0.5456, 0.4788], [0.4, 0.5, 0.4, 0.6, 0.6], [1.0, 1.0, 1.0, 1.0, 1.0], [0.3, 0.4, 0.4, 0.4, 0.4], [0.57, 0.59, 0.57, 0.58, 0.56], [0.5983, 0.6597, 0.6025, 0.6153, 0.6832], [0.5687, 0.6162, 0.5456, 0.5456, 0.5922], [0.6, 0.6, 0.6, 0.6, 0.6], [0.9, 1.0, 0.4375, 0.8571, 1.0], [0.1, 0.5, 0.0, 0.1, 0.4], [0.4, 0.76, 0.41, 0.5, 0.56], [0.5481, 0.5914, 0.5804, 0.6393, 0.6832], [0.3433, 0.5641, 0.4788, 0.4788, 0.5922], [0.5, 0.7, 0.5, 0.6, 0.6]]\n"
     ]
    }
   ],
   "source": [
    "alldata=[]\n",
    "for lang in isocodes:\n",
    "    for dist in distances:\n",
    "        temp_list=[]\n",
    "        temp_list_langs=[]\n",
    "        for lang2 in isocodes:\n",
    "            if lang!=lang2:\n",
    "                temp_list_langs.append(lang2)\n",
    "                temp_list.append(l2v.distance(dist, lang, lang2))\n",
    "#                 print('The distance from', lang, 'to', lang2, 'in distance', dist, 'is ', l2v.distance(dist, lang, lang2))\n",
    "#         temp_string=str(dist)+' distance from '+str(lang)+' to '+str(temp_list_langs)\n",
    "#         alldata.append(temp_string)\n",
    "        alldata.append(temp_list)\n",
    "print(alldata)"
   ]
  },
  {
   "cell_type": "code",
   "execution_count": 8,
   "id": "95fe548a",
   "metadata": {},
   "outputs": [],
   "source": [
    "results=[[0.914,0.928,0.937,0.845,0.918],[0.904,0.904,0.911,0.861,0.911],[0.929,0.911,0.934,0.832,0.932],[0.926,0.920,0.929,0.846,0.928],[0.910,0.887,0.906,0.916,0.907],[0.916,0.897,0.929,0.927,0.807]]"
   ]
  },
  {
   "cell_type": "code",
   "execution_count": 70,
   "id": "e5950bd0",
   "metadata": {
    "scrolled": true
   },
   "outputs": [],
   "source": [
    "def all_equal2(iterator):\n",
    "    return len(set(iterator)) <= 1\n",
    "step=0\n",
    "distance_count={}\n",
    "for i in distances:\n",
    "    distance_count[i]=0\n",
    "counter=0\n",
    "lang2veclist=[[] for i in range(6)]\n",
    "r2list=[]\n",
    "phonological_x=[]\n",
    "phonological_y=[]\n",
    "with open('r2values.txt','w+') as p:\n",
    "    pass\n",
    "for i in results:\n",
    "    index=0\n",
    "    minimum=step*6\n",
    "    maximum=(step+1)*6\n",
    "    for j in alldata[minimum:maximum]:\n",
    "        if all_equal2(j)!=1:\n",
    "            distance_count[distances[index]]+=1\n",
    "            slope, intercept, r_value, p_value, std_err = sc.linregress(j, i)\n",
    "            with open('r2values.txt','a+') as l:\n",
    "                l.write(str(isocodes[step])+' ') \n",
    "                l.write(str(distances[index])+' ')\n",
    "                l.write('R-squared: ')\n",
    "                l.write(str(r_value*r_value))\n",
    "                l.write('\\n')\n",
    "            r2list.append([r_value*r_value,distances[index]])\n",
    "            if distances[index]=='phonological':\n",
    "                for c,v in zip(i,j):\n",
    "                    phonological_x.append(v)\n",
    "                    phonological_y.append(c)\n",
    "        index+=1\n",
    "    step+=1"
   ]
  },
  {
   "cell_type": "code",
   "execution_count": 48,
   "id": "2019d6a2",
   "metadata": {},
   "outputs": [
    {
     "data": {
      "text/plain": [
       "[[0.30513022139122337, 'genetic'],\n",
       " [0.17978747287285787, 'geographic'],\n",
       " [0.2213726840206282, 'syntactic'],\n",
       " [0.6855699737605921, 'inventory'],\n",
       " [0.6551275126552785, 'phonological'],\n",
       " [0.49877593782405594, 'featural'],\n",
       " [0.9724533393298852, 'geographic'],\n",
       " [0.3117457103656794, 'syntactic'],\n",
       " [0.6374985401638724, 'inventory'],\n",
       " [0.4966537409287766, 'phonological'],\n",
       " [1.6202259193158568e-35, 'featural'],\n",
       " [0.23756944142043113, 'genetic'],\n",
       " [0.43925555193163573, 'geographic'],\n",
       " [0.17433000005804325, 'syntactic'],\n",
       " [0.3872946312741707, 'inventory'],\n",
       " [0.43723278197727866, 'phonological'],\n",
       " [0.46436213708722157, 'featural'],\n",
       " [0.1883249594973771, 'genetic'],\n",
       " [0.29855535526712557, 'geographic'],\n",
       " [0.31073728201804046, 'syntactic'],\n",
       " [0.24419557171102804, 'inventory'],\n",
       " [0.4677891407899976, 'phonological'],\n",
       " [0.31931358043918406, 'featural'],\n",
       " [0.060657118786857596, 'geographic'],\n",
       " [0.3040794504568739, 'syntactic'],\n",
       " [0.22452936352651345, 'inventory'],\n",
       " [0.666998012098027, 'phonological'],\n",
       " [0.2919785493643147, 'genetic'],\n",
       " [0.4350071491068955, 'geographic'],\n",
       " [0.11103864253554264, 'syntactic'],\n",
       " [0.5273143929558665, 'inventory'],\n",
       " [0.41048172448830744, 'phonological'],\n",
       " [0.09602433674650335, 'featural']]"
      ]
     },
     "execution_count": 48,
     "metadata": {},
     "output_type": "execute_result"
    }
   ],
   "source": [
    "r2list"
   ]
  },
  {
   "cell_type": "code",
   "execution_count": 49,
   "id": "291d0cf7",
   "metadata": {},
   "outputs": [
    {
     "name": "stdout",
     "output_type": "stream",
     "text": [
      "{'genetic': 1.0230031716733463, 'geographic': 2.3857159872952574, 'syntactic': 1.4333037694548079, 'inventory': 2.706402473392043, 'phonological': 3.1342829129376657, 'featural': 1.378475992096965}\n",
      "{'genetic': 4, 'geographic': 6, 'syntactic': 6, 'inventory': 6, 'phonological': 6, 'featural': 5}\n"
     ]
    }
   ],
   "source": [
    "distance_avg={}\n",
    "for i in distances:\n",
    "    distance_avg[i]=0\n",
    "\n",
    "for i in r2list:\n",
    "    distance_avg[i[1]]+=i[0]\n",
    "print(distance_avg)\n",
    "\n",
    "print(distance_count)\n",
    "for i in distance_avg:\n",
    "    distance_avg[i]=distance_avg[i]/distance_count[i]"
   ]
  },
  {
   "cell_type": "code",
   "execution_count": 46,
   "id": "89df9c1f",
   "metadata": {},
   "outputs": [
    {
     "data": {
      "text/plain": [
       "{'genetic': 0.2557507929183366,\n",
       " 'geographic': 0.3976193312158762,\n",
       " 'syntactic': 0.2388839615758013,\n",
       " 'inventory': 0.45106707889867387,\n",
       " 'phonological': 0.5223804854896109,\n",
       " 'featural': 0.275695198419393}"
      ]
     },
     "execution_count": 46,
     "metadata": {},
     "output_type": "execute_result"
    }
   ],
   "source": [
    "distance_avg"
   ]
  },
  {
   "cell_type": "code",
   "execution_count": 71,
   "id": "886f1120",
   "metadata": {},
   "outputs": [
    {
     "data": {
      "text/plain": [
       "<matplotlib.collections.PathCollection at 0x7fb417d7a7f0>"
      ]
     },
     "execution_count": 71,
     "metadata": {},
     "output_type": "execute_result"
    },
    {
     "data": {
      "image/png": "[encoded data removed]",
      "text/plain": [
       "<Figure size 432x288 with 1 Axes>"
      ]
     },
     "metadata": {
      "needs_background": "light"
     },
     "output_type": "display_data"
    }
   ],
   "source": [
    "plt.scatter(phonological_x,phonological_y)"
   ]
  },
  {
   "cell_type": "code",
   "execution_count": 72,
   "id": "340db6b2",
   "metadata": {},
   "outputs": [],
   "source": [
    "slope, intercept, r_value, p_value, std_err = sc.linregress(phonological_x, phonological_y)"
   ]
  },
  {
   "cell_type": "code",
   "execution_count": 73,
   "id": "6e256678",
   "metadata": {},
   "outputs": [
    {
     "data": {
      "text/plain": [
       "0.36304872327182824"
      ]
     },
     "execution_count": 73,
     "metadata": {},
     "output_type": "execute_result"
    }
   ],
   "source": [
    "r_value*r_value"
   ]
  },
  {
   "cell_type": "code",
   "execution_count": 76,
   "id": "1d8acffd",
   "metadata": {
    "scrolled": false
   },
   "outputs": [
    {
     "data": {
      "text/plain": [
       "[0.5032,\n",
       " 0.427,\n",
       " 0.3277,\n",
       " 0.5687,\n",
       " 0.3433,\n",
       " 0.5032,\n",
       " 0.4407,\n",
       " 0.4407,\n",
       " 0.6162,\n",
       " 0.5641,\n",
       " 0.427,\n",
       " 0.4407,\n",
       " 0.2617,\n",
       " 0.5456,\n",
       " 0.4788,\n",
       " 0.3277,\n",
       " 0.4407,\n",
       " 0.2617,\n",
       " 0.5456,\n",
       " 0.4788,\n",
       " 0.5687,\n",
       " 0.6162,\n",
       " 0.5456,\n",
       " 0.5456,\n",
       " 0.5922,\n",
       " 0.3433,\n",
       " 0.5641,\n",
       " 0.4788,\n",
       " 0.4788,\n",
       " 0.5922]"
      ]
     },
     "execution_count": 76,
     "metadata": {},
     "output_type": "execute_result"
    }
   ],
   "source": [
    "phonological_x"
   ]
  }
 ],
 "metadata": {
  "kernelspec": {
   "display_name": "Python 3",
   "language": "python",
   "name": "python3"
  },
  "language_info": {
   "codemirror_mode": {
    "name": "ipython",
    "version": 3
   },
   "file_extension": ".py",
   "mimetype": "text/x-python",
   "name": "python",
   "nbconvert_exporter": "python",
   "pygments_lexer": "ipython3",
   "version": "3.8.10"
  },
  "varInspector": {
   "cols": {
    "lenName": 16,
    "lenType": 16,
    "lenVar": 40
   },
   "kernels_config": {
    "python": {
     "delete_cmd_postfix": "",
     "delete_cmd_prefix": "del ",
     "library": "var_list.py",
     "varRefreshCmd": "print(var_dic_list())"
    },
    "r": {
     "delete_cmd_postfix": ") ",
     "delete_cmd_prefix": "rm(",
     "library": "var_list.r",
     "varRefreshCmd": "cat(var_dic_list()) "
    }
   },
   "types_to_exclude": [
    "module",
    "function",
    "builtin_function_or_method",
    "instance",
    "_Feature"
   ],
   "window_display": false
  }
 },
 "nbformat": 4,
 "nbformat_minor": 5
}
